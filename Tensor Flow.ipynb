{
 "cells": [
  {
   "cell_type": "code",
   "execution_count": 31,
   "metadata": {
    "collapsed": true
   },
   "outputs": [],
   "source": [
    "import tensorflow as tf\n",
    "import pandas as pd\n",
    "import numpy as np\n",
    "import matplotlib.pyplot as plt"
   ]
  },
  {
   "cell_type": "code",
   "execution_count": 32,
   "metadata": {
    "collapsed": true
   },
   "outputs": [],
   "source": [
    "#step 1 load data\n",
    "file = r'C:\\Users\\fella\\Desktop\\Documents\\5. Python\\Tutorials\\How_to_use_Tensorflow_for_classification-LIVE\\data.csv'\n",
    "dataframe = pd.read_csv(file)\n",
    "#remove data we don't want\n",
    "#axis=0 means apply method along the row\n",
    "#axis=1 means apply the method across the columns\n",
    "dataframe = dataframe.drop(['index','price','sq_price'],axis=1)\n",
    "#use only the first 10 lines\n",
    "dataframe = dataframe[0:10]"
   ]
  },
  {
   "cell_type": "code",
   "execution_count": 33,
   "metadata": {
    "collapsed": true
   },
   "outputs": [],
   "source": [
    "#step 2 - add lables\n",
    "# 1 is good buy 0 is bad buy\n",
    "dataframe.loc[:, ('y1')] = [1,1,1,0,0,1,0,1,1,1]\n",
    "#y2 is a neagtion of y1\n",
    "dataframe.loc[:, ('y2')] = dataframe['y1'] == 0\n",
    "#turn TRUE/FALSE values into 1s and 0s\n",
    "dataframe.loc[:, ('y2')] = dataframe['y2'].astype(int)\n",
    "\n"
   ]
  },
  {
   "cell_type": "code",
   "execution_count": 34,
   "metadata": {
    "collapsed": true
   },
   "outputs": [],
   "source": [
    "#step 3 - prepare data for tensorflow (tensor)\n",
    "#tensor are a genetric version of matrices and vectors\n",
    "#vector is a list (or a 1D tensor)\n",
    "#matrix is a list of list (or a 2D tensor)\n",
    "#a list of a list of a list (is a 3D tensor)\n",
    "# a list of a list of a list of a list (is a 4D tensor)\n",
    "# ...\n",
    "\n",
    "inputX = dataframe.loc[:,['area','bathrooms']].as_matrix()\n",
    "inputY = dataframe.loc[:, ['y1','y2']].as_matrix()\n"
   ]
  },
  {
   "cell_type": "code",
   "execution_count": 35,
   "metadata": {
    "collapsed": true
   },
   "outputs": [],
   "source": [
    "#Step 4 - write out hyperparameters\n",
    "learning_rate = 0.000001\n",
    "training_epochs = 2000\n",
    "display_step = 50\n",
    "n_samples = inputY"
   ]
  },
  {
   "cell_type": "code",
   "execution_count": 36,
   "metadata": {},
   "outputs": [],
   "source": [
    "#Step 5 - Create our computation graph/neural network\n",
    "#for feature input tensors, none means any number of examples\n",
    "#placeholders are gateways for data into out computation graph\n",
    "x = tf.placeholder(tf.float32, [None,2])\n",
    "\n",
    "#create weights\n",
    "#2x2 float matrix, that will keep updating through the training process\n",
    "#varibales in tf holds and update parameters\n",
    "#in memorey buffers containin tensors\n",
    "W = tf.Variable(tf.zeros([2,2]))\n",
    "\n",
    "#add biases( example is b in y= mx +b, b is the bias, like that )\n",
    "b = tf.Variable(tf.zeros([2]))\n",
    "\n",
    "#multiply our weights by out inputs, first calculation\n",
    "#weights are how we govern how data flows in our computation graph\n",
    "#multiply input by weights and add biases\n",
    "\n",
    "y_values = tf.add(tf.matmul(x,W),b)\n",
    "\n",
    "#apply softmax to value we jsut created\n",
    "#softmax in our activation function (it normalizes out values)\n",
    "#converts value to probability\n",
    "y = tf.nn.softmax(y_values)\n",
    "\n",
    "\n",
    "#feed in a matrix of labeles\n",
    "y_ = tf.placeholder(tf.float32, [None,2])\n"
   ]
  },
  {
   "cell_type": "code",
   "execution_count": 37,
   "metadata": {},
   "outputs": [],
   "source": [
    "#Step 6 perform training\n",
    "#create our cost function, mean squared error\n",
    "#reduce sum computes the sum of elements across dimensions of a tensor\n",
    "cost = tf.reduce_sum(tf.pow(y_ - y, 2))/(2 * n_samples)\n",
    "\n",
    "#gradient descent\n",
    "optimizer = tf.train.GradientDescentOptimizer(learning_rate).minimize(cost)\n",
    "\n"
   ]
  },
  {
   "cell_type": "code",
   "execution_count": 38,
   "metadata": {},
   "outputs": [
    {
     "name": "stdout",
     "output_type": "stream",
     "text": [
      "WARNING:tensorflow:From <ipython-input-38-6db856911e0a>:2: initialize_all_variables (from tensorflow.python.ops.variables) is deprecated and will be removed after 2017-03-02.\n",
      "Instructions for updating:\n",
      "Use `tf.global_variables_initializer` instead.\n"
     ]
    }
   ],
   "source": [
    "#initialize variable and tensor session\n",
    "init = tf.initialize_all_variables()\n",
    "sess = tf.Session()\n",
    "sess.run(init)"
   ]
  },
  {
   "cell_type": "code",
   "execution_count": 39,
   "metadata": {},
   "outputs": [
    {
     "name": "stdout",
     "output_type": "stream",
     "text": [
      "Optimizer Finished!\n",
      "Training cost =  [[ nan  nan]\n",
      " [ nan  nan]\n",
      " [ nan  nan]\n",
      " [ nan  nan]\n",
      " [ nan  nan]\n",
      " [ nan  nan]\n",
      " [ nan  nan]\n",
      " [ nan  nan]\n",
      " [ nan  nan]\n",
      " [ nan  nan]] W= [[ nan  nan]\n",
      " [ nan  nan]] b= [ nan  nan]\n"
     ]
    }
   ],
   "source": [
    "#training loop\n",
    "for i in range(training_epochs):\n",
    "    sess.run(optimizer, feed_dict = {x: inputX, y_: inputY})\n",
    "    \n",
    "    #write out logs of training\n",
    "    # % is the modulo step\n",
    "    if (i) % display_step == 0:\n",
    "        cc = sess.run(cost, feed_dict={x: inputX, y_: inputY})\n",
    "        #print( 'Training step:', '%4d' % (i), 'cost=', '{:.9f}'.format(cc))\n",
    "        \n",
    "print(\"Optimizer Finished!\")\n",
    "training_cost = sess.run(cost, feed_dict={x: inputX, y_ : inputY})\n",
    "print(\"Training cost = \", training_cost, \"W=\", sess.run(W), \"b=\", sess.run(b))"
   ]
  },
  {
   "cell_type": "code",
   "execution_count": 18,
   "metadata": {},
   "outputs": [
    {
     "name": "stdout",
     "output_type": "stream",
     "text": [
      "The Carrion who say Haza!!\n"
     ]
    }
   ],
   "source": [
    "print('The {} who say {}!'.format('Carrion','Haza!'))"
   ]
  },
  {
   "cell_type": "code",
   "execution_count": 20,
   "metadata": {},
   "outputs": [
    {
     "name": "stdout",
     "output_type": "stream",
     "text": [
      "The Haza! who say Carrion!\n"
     ]
    }
   ],
   "source": [
    "print('The {1} who say {0}!'.format('Carrion','Haza!'))"
   ]
  },
  {
   "cell_type": "code",
   "execution_count": 22,
   "metadata": {},
   "outputs": [
    {
     "name": "stdout",
     "output_type": "stream",
     "text": [
      "The {1} who say Carrion!\n"
     ]
    }
   ],
   "source": [
    "print('The {1} who', 'say {0}!'.format('Carrion','Haza!'))"
   ]
  },
  {
   "cell_type": "code",
   "execution_count": null,
   "metadata": {},
   "outputs": [],
   "source": []
  },
  {
   "cell_type": "code",
   "execution_count": 47,
   "metadata": {},
   "outputs": [
    {
     "name": "stdout",
     "output_type": "stream",
     "text": [
      "1 Weird!\n",
      "3 Weird!\n",
      "5 Weird!\n",
      "7 Weird!\n",
      "9 Weird!\n",
      "11 Weird!\n",
      "13 Weird!\n",
      "15 Weird!\n",
      "17 Weird!\n",
      "19 Weird!\n",
      "21 Weird!\n",
      "23 Weird!\n",
      "25 Weird!\n",
      "27 Weird!\n",
      "29 Weird!\n",
      "31 Weird!\n",
      "33 Weird!\n",
      "35 Weird!\n",
      "37 Weird!\n",
      "39 Weird!\n",
      "41 Weird!\n",
      "43 Weird!\n",
      "45 Weird!\n",
      "47 Weird!\n",
      "49 Weird!\n",
      "51 Weird!\n",
      "53 Weird!\n",
      "55 Weird!\n",
      "57 Weird!\n",
      "59 Weird!\n",
      "61 Weird!\n",
      "63 Weird!\n",
      "65 Weird!\n",
      "67 Weird!\n",
      "69 Weird!\n",
      "71 Weird!\n",
      "73 Weird!\n",
      "75 Weird!\n",
      "77 Weird!\n",
      "79 Weird!\n",
      "81 Weird!\n",
      "83 Weird!\n",
      "85 Weird!\n",
      "87 Weird!\n",
      "89 Weird!\n",
      "91 Weird!\n",
      "93 Weird!\n",
      "95 Weird!\n",
      "97 Weird!\n",
      "99 Weird!\n"
     ]
    }
   ],
   "source": [
    "for i in range(101):\n",
    "    if i % 2 != 0:\n",
    "        print(i,\"Weird!\")\n",
    "    if i %"
   ]
  },
  {
   "cell_type": "code",
   "execution_count": null,
   "metadata": {
    "collapsed": true
   },
   "outputs": [],
   "source": []
  }
 ],
 "metadata": {
  "kernelspec": {
   "display_name": "Python 3",
   "language": "python",
   "name": "python3"
  },
  "language_info": {
   "codemirror_mode": {
    "name": "ipython",
    "version": 3
   },
   "file_extension": ".py",
   "mimetype": "text/x-python",
   "name": "python",
   "nbconvert_exporter": "python",
   "pygments_lexer": "ipython3",
   "version": "3.5.3"
  }
 },
 "nbformat": 4,
 "nbformat_minor": 2
}
