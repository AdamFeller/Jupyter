{
 "cells": [
  {
   "cell_type": "code",
   "execution_count": 4,
   "metadata": {},
   "outputs": [],
   "source": [
    "import tensorflow as tf\n",
    "import pandas as pd\n",
    "import numpy as np\n",
    "import matplotlib.pyplot as plt"
   ]
  },
  {
   "cell_type": "code",
   "execution_count": 18,
   "metadata": {},
   "outputs": [],
   "source": [
    "#step 1 load data\n",
    "file = r'C:\\Users\\fella\\Desktop\\Documents\\5. Python\\Tutorials\\How_to_use_Tensorflow_for_classification-LIVE\\data.csv'\n",
    "dataframe = pd.read_csv(file)\n",
    "#remove data we don't want\n",
    "#axis=0 means apply method along the row\n",
    "#axis=1 means apply the method across the columns\n",
    "dataframe = dataframe.drop(['index','price','sq_price'],axis=1)\n",
    "#use only the first 10 lines\n",
    "dataframe = dataframe[0:10]"
   ]
  },
  {
   "cell_type": "code",
   "execution_count": 40,
   "metadata": {},
   "outputs": [],
   "source": [
    "#step 2 - add lables\n",
    "# 1 is good buy 0 is bad buy\n",
    "dataframe.loc[:, ('y1')] = [1,1,1,0,0,1,0,1,1,1]\n",
    "#y2 is a neagtion of y1\n",
    "dataframe.loc[:, ('y2')] = dataframe['y1'] == 0\n",
    "#turn TRUE/FALSE values into 1s and 0s\n",
    "dataframe.loc[:, ('y2')] = dataframe['y2'].astype(int)\n",
    "\n"
   ]
  },
  {
   "cell_type": "code",
   "execution_count": 39,
   "metadata": {},
   "outputs": [],
   "source": [
    "#step 3 - prepare data for tensorflow (tensor)\n",
    "#tensor are a genetric version of matrices and vectors\n",
    "#vector is a list (or a 1D tensor)\n",
    "#matrix is a list of list (or a 2D tensor)\n",
    "#a list of a list of a list (is a 3D tensor)\n",
    "# a list of a list of a list of a list (is a 4D tensor)\n",
    "# ...\n",
    "\n",
    "inputX = dataframe.loc[:,['area','bathrooms']].as_matrix()\n",
    "inputY = dataframe.loc[:, ['y1','y2']].as_matrix()\n"
   ]
  },
  {
   "cell_type": "code",
   "execution_count": 41,
   "metadata": {
    "collapsed": true
   },
   "outputs": [],
   "source": [
    "#Step 4 - write out hyperparameters\n",
    "learning_rate = 0.000001\n",
    "training_epochs = 2000\n",
    "display_step = 50\n",
    "n_samples = inputY"
   ]
  },
  {
   "cell_type": "code",
   "execution_count": 61,
   "metadata": {},
   "outputs": [],
   "source": [
    "#Step 5 - Create our computation graph/neural network\n",
    "#for feature input tensors, none means any number of examples\n",
    "#placeholders are gateways for data into out computation graph\n",
    "x = tf.placeholder(tf.float32, [None,2])\n",
    "\n",
    "#create weights\n",
    "#2x2 float matrix, that will keep updating through the training process\n",
    "#varibales in tf holds and update parameters\n",
    "#in memorey buffers containin tensors\n",
    "W = tf.Variable(tf.zeros([2,2]))\n",
    "\n",
    "#add biases( example is b in y= mx +b, b is the bias, like that )\n",
    "b = tf.Variable(tf.zeros([2]))\n",
    "\n",
    "#multiply our weights by out inputs, first calculation\n",
    "#weights are how we govern how data flows in our computation graph\n",
    "#multiply input by weights and add biases\n",
    "\n",
    "y_values = tf.add(tf.matmul(x,W),b)\n",
    "\n",
    "#apply softmax to value we jsut created\n",
    "#softmax in our activation function (it normalizes out values)\n",
    "#converts value to probability\n",
    "y = tf.nn.softmax(y_values)\n"
   ]
  },
  {
   "cell_type": "code",
   "execution_count": 59,
   "metadata": {},
   "outputs": [
    {
     "ename": "AttributeError",
     "evalue": "module 'tensorflow' has no attribute 'Varibles'",
     "output_type": "error",
     "traceback": [
      "\u001b[1;31m---------------------------------------------------------------------------\u001b[0m",
      "\u001b[1;31mAttributeError\u001b[0m                            Traceback (most recent call last)",
      "\u001b[1;32m<ipython-input-59-24da391de96a>\u001b[0m in \u001b[0;36m<module>\u001b[1;34m()\u001b[0m\n\u001b[1;32m----> 1\u001b[1;33m \u001b[0mW\u001b[0m \u001b[1;33m=\u001b[0m \u001b[0mtf\u001b[0m\u001b[1;33m.\u001b[0m\u001b[0mVaribles\u001b[0m\u001b[1;33m(\u001b[0m\u001b[0mtf\u001b[0m\u001b[1;33m.\u001b[0m\u001b[0mzeros\u001b[0m\u001b[1;33m(\u001b[0m\u001b[1;33m[\u001b[0m\u001b[1;36m2\u001b[0m\u001b[1;33m]\u001b[0m\u001b[1;33m)\u001b[0m\u001b[1;33m)\u001b[0m\u001b[1;33m\u001b[0m\u001b[0m\n\u001b[0m",
      "\u001b[1;31mAttributeError\u001b[0m: module 'tensorflow' has no attribute 'Varibles'"
     ]
    }
   ],
   "source": [
    "W = tf.Varibles(tf.zeros([2]))\n"
   ]
  },
  {
   "cell_type": "code",
   "execution_count": null,
   "metadata": {
    "collapsed": true
   },
   "outputs": [],
   "source": []
  }
 ],
 "metadata": {
  "kernelspec": {
   "display_name": "Python 3",
   "language": "python",
   "name": "python3"
  },
  "language_info": {
   "codemirror_mode": {
    "name": "ipython",
    "version": 3
   },
   "file_extension": ".py",
   "mimetype": "text/x-python",
   "name": "python",
   "nbconvert_exporter": "python",
   "pygments_lexer": "ipython3",
   "version": "3.5.3"
  }
 },
 "nbformat": 4,
 "nbformat_minor": 2
}
