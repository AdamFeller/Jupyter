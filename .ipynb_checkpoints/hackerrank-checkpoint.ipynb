{
 "cells": [
  {
   "cell_type": "code",
   "execution_count": 14,
   "metadata": {
    "scrolled": false
   },
   "outputs": [
    {
     "name": "stdout",
     "output_type": "stream",
     "text": [
      "1 Weird\n",
      "2 Not Weird\n",
      "3 Weird\n",
      "4 Not Weird\n",
      "5 Weird\n",
      "6 Weird\n",
      "7 Weird\n",
      "8 Weird\n",
      "9 Weird\n",
      "10 Weird\n",
      "11 Weird\n",
      "12 Weird\n",
      "13 Weird\n",
      "14 Weird\n",
      "15 Weird\n",
      "16 Weird\n",
      "17 Weird\n",
      "18 Weird\n",
      "19 Weird\n",
      "20 Weird\n",
      "20 Not Weird\n",
      "21 Weird\n",
      "22 Not Weird\n",
      "23 Weird\n",
      "24 Not Weird\n",
      "25 Weird\n",
      "26 Not Weird\n",
      "27 Weird\n",
      "28 Not Weird\n",
      "29 Weird\n",
      "30 Not Weird\n",
      "31 Weird\n",
      "32 Not Weird\n",
      "33 Weird\n",
      "34 Not Weird\n",
      "35 Weird\n",
      "36 Not Weird\n",
      "37 Weird\n",
      "38 Not Weird\n",
      "39 Weird\n",
      "40 Not Weird\n",
      "41 Weird\n",
      "42 Not Weird\n",
      "43 Weird\n",
      "44 Not Weird\n",
      "45 Weird\n",
      "46 Not Weird\n",
      "47 Weird\n",
      "48 Not Weird\n",
      "49 Weird\n",
      "50 Not Weird\n",
      "51 Weird\n",
      "52 Not Weird\n",
      "53 Weird\n",
      "54 Not Weird\n",
      "55 Weird\n",
      "56 Not Weird\n",
      "57 Weird\n",
      "58 Not Weird\n",
      "59 Weird\n",
      "60 Not Weird\n",
      "61 Weird\n",
      "62 Not Weird\n",
      "63 Weird\n",
      "64 Not Weird\n",
      "65 Weird\n",
      "66 Not Weird\n",
      "67 Weird\n",
      "68 Not Weird\n",
      "69 Weird\n",
      "70 Not Weird\n",
      "71 Weird\n",
      "72 Not Weird\n",
      "73 Weird\n",
      "74 Not Weird\n",
      "75 Weird\n",
      "76 Not Weird\n",
      "77 Weird\n",
      "78 Not Weird\n",
      "79 Weird\n",
      "80 Not Weird\n",
      "81 Weird\n",
      "82 Not Weird\n",
      "83 Weird\n",
      "84 Not Weird\n",
      "85 Weird\n",
      "86 Not Weird\n",
      "87 Weird\n",
      "88 Not Weird\n",
      "89 Weird\n",
      "90 Not Weird\n",
      "91 Weird\n",
      "92 Not Weird\n",
      "93 Weird\n",
      "94 Not Weird\n",
      "95 Weird\n",
      "96 Not Weird\n",
      "97 Weird\n",
      "98 Not Weird\n",
      "99 Weird\n",
      "100 Not Weird\n"
     ]
    }
   ],
   "source": [
    "for n in range(101):\n",
    "    if n % 2 ==0 and 2 <= n <=5:\n",
    "        print(n,\"Not Weird\")   \n",
    "    if n % 2 ==0 and 6 <= n <=20:\n",
    "        print(n,\"Weird\")\n",
    "    if n % 2 ==0 and n >20:\n",
    "        print(n,\"Not Weird\")\n",
    "    if n % 2 != 0:\n",
    "        print(n,\"Weird\")\n",
    "\n",
    "\n"
   ]
  },
  {
   "cell_type": "code",
   "execution_count": 13,
   "metadata": {},
   "outputs": [
    {
     "name": "stdout",
     "output_type": "stream",
     "text": [
      "Weird\n"
     ]
    }
   ],
   "source": [
    "print(a+b)\n",
    "print(a=b)\n",
    "print(a*b)"
   ]
  },
  {
   "cell_type": "code",
   "execution_count": 15,
   "metadata": {},
   "outputs": [
    {
     "ename": "NameError",
     "evalue": "name 'a' is not defined",
     "output_type": "error",
     "traceback": [
      "\u001b[1;31m---------------------------------------------------------------------------\u001b[0m",
      "\u001b[1;31mNameError\u001b[0m                                 Traceback (most recent call last)",
      "\u001b[1;32m<ipython-input-15-a25c8605a49e>\u001b[0m in \u001b[0;36m<module>\u001b[1;34m()\u001b[0m\n\u001b[1;32m----> 1\u001b[1;33m \u001b[0mprint\u001b[0m\u001b[1;33m(\u001b[0m\u001b[0ma\u001b[0m\u001b[1;33m//\u001b[0m\u001b[0mb\u001b[0m\u001b[1;33m)\u001b[0m\u001b[1;33m\u001b[0m\u001b[0m\n\u001b[0m\u001b[0;32m      2\u001b[0m \u001b[0mprint\u001b[0m\u001b[1;33m(\u001b[0m\u001b[0ma\u001b[0m\u001b[1;33m/\u001b[0m\u001b[0mb\u001b[0m\u001b[1;33m)\u001b[0m\u001b[1;33m\u001b[0m\u001b[0m\n",
      "\u001b[1;31mNameError\u001b[0m: name 'a' is not defined"
     ]
    }
   ],
   "source": [
    "    print(a//b)\n",
    "    print(a/b)"
   ]
  },
  {
   "cell_type": "code",
   "execution_count": 16,
   "metadata": {
    "scrolled": true
   },
   "outputs": [
    {
     "name": "stdout",
     "output_type": "stream",
     "text": [
      "0\n",
      "1\n",
      "4\n",
      "9\n",
      "16\n"
     ]
    }
   ],
   "source": [
    "n=5\n",
    "for i in range(n):\n",
    "    print(i**2)"
   ]
  },
  {
   "cell_type": "code",
   "execution_count": 63,
   "metadata": {},
   "outputs": [
    {
     "name": "stdout",
     "output_type": "stream",
     "text": [
      "True\n",
      "True\n",
      "False\n",
      "False\n"
     ]
    }
   ],
   "source": [
    "def is_leap(year):\n",
    "    leap = False\n",
    "    \n",
    "    if year % 4 == 0:\n",
    "        leap = True\n",
    "        if year % 100 == 0:\n",
    "            leap = False\n",
    "            if year % 400 ==0:\n",
    "                leap = True\n",
    "    \n",
    "    return leap\n",
    "\n",
    "year = 4\n",
    "print(is_leap(year))\n",
    "print(year % 4 == 0)\n",
    "print(year % 100 == 0)\n",
    "print(year % 400 == 0)"
   ]
  },
  {
   "cell_type": "code",
   "execution_count": 7,
   "metadata": {},
   "outputs": [
    {
     "name": "stdout",
     "output_type": "stream",
     "text": [
      "1234\n"
     ]
    }
   ],
   "source": [
    "#write string\n",
    "n = int(5)\n",
    "x=str()\n",
    "for i in range(1,n):\n",
    "    x += str(i)\n",
    "print(x)"
   ]
  },
  {
   "cell_type": "code",
   "execution_count": 14,
   "metadata": {},
   "outputs": [
    {
     "name": "stdout",
     "output_type": "stream",
     "text": [
      "12345\n"
     ]
    }
   ],
   "source": [
    "#write string\n",
    "n = 5\n",
    "print(*range(1,n+1),sep='')"
   ]
  },
  {
   "cell_type": "code",
   "execution_count": 43,
   "metadata": {},
   "outputs": [
    {
     "name": "stdout",
     "output_type": "stream",
     "text": [
      "[0, 1, 1, 8, 27]\n"
     ]
    }
   ],
   "source": [
    "#Map and lambda\n",
    "#Map apply a function to a list map(function, list)\n",
    "#lambda one line function\n",
    "def fibonacci(n):\n",
    "    results = []\n",
    "    a,b = 0,1    \n",
    "    for i in range(n):\n",
    "        results.append(a)\n",
    "        a,b = b, a+b\n",
    "    return results\n",
    "\n",
    "cube = lambda x : x**3\n",
    "print(list(map(cube,fibonacci(5))))\n",
    "\n",
    "\n",
    "\n",
    "\n",
    "\n",
    "    \n"
   ]
  },
  {
   "cell_type": "code",
   "execution_count": 41,
   "metadata": {},
   "outputs": [
    {
     "name": "stdout",
     "output_type": "stream",
     "text": [
      "<generator object <genexpr> at 0x0000019A77664048>\n"
     ]
    }
   ],
   "source": [
    "fib = lambda y: y if y < 2 else fib(y-1) +fib(y-2)\n",
    "print(fib(x)**3 for x in range(10))"
   ]
  },
  {
   "cell_type": "code",
   "execution_count": 55,
   "metadata": {},
   "outputs": [
    {
     "name": "stdout",
     "output_type": "stream",
     "text": [
      "range(0, 10)\n",
      "[0, 1, 2, 3, 4, 5, 6, 7, 8, 9]\n",
      "[0, 1, 2, 3, 4, 5, 6, 7, 8, 9]\n",
      "0123456789\n"
     ]
    }
   ],
   "source": [
    "#range\n",
    "l = range(10)\n",
    "print(l)\n",
    "#list\n",
    "l = list(range(10))\n",
    "print(l)\n",
    "#*\n",
    "l = [*range(10)]\n",
    "print(l)\n",
    "#* and sep\n",
    "print(*range(10),sep='')"
   ]
  },
  {
   "cell_type": "code",
   "execution_count": 57,
   "metadata": {},
   "outputs": [
    {
     "name": "stdout",
     "output_type": "stream",
     "text": [
      "[0, 1, 4, 9, 16, 25, 36, 49, 64, 81]\n",
      "[16, 25, 36, 49, 64]\n"
     ]
    }
   ],
   "source": [
    "#filer\n",
    "l = list(range(10))\n",
    "l = list(map(lambda x:x*x, l))\n",
    "print(l)\n",
    "\n",
    "l = list(filter(lambda x:  10<x<80,l))\n",
    "print(l)"
   ]
  },
  {
   "cell_type": "code",
   "execution_count": 95,
   "metadata": {},
   "outputs": [
    {
     "data": {
      "text/plain": [
       "False"
      ]
     },
     "execution_count": 95,
     "metadata": {},
     "output_type": "execute_result"
    }
   ],
   "source": [
    "# return True if s is a valid email, else return False\n",
    "#It must have the username@websitename.extension format type.\n",
    "#The username can only contain letters, digits, dashes and underscores.\n",
    "#The website name can only have letters and digits.\n",
    "#The maximum length of the extension is . \n",
    "import re\n",
    "k = re.compile(\"^[a-zA-Z][\\w-]*@[a-zA-Z0-9]+\\.[a-zA-Z]{1,3}$\")\n",
    "\n",
    "def fun(s):\n",
    "    l = len(s)\n",
    "    at = s.find('@')\n",
    "    dot = s.rfind('.')\n",
    "\n",
    "    username = s[:at]\n",
    "    website = s[at+1:dot]\n",
    "    extension = s[dot+1:]\n",
    "    \n",
    "    if l ==0 or at == 0 or len(extension) >3:\n",
    "        return False\n",
    "    \n",
    "    if filter( ,username)\n",
    "\n",
    "    \n",
    "    #return (username,website,extension)\n",
    "    \n",
    "strr = ('harsh@gmail')\n",
    "\n",
    "fun(strr)\n",
    "\n",
    "\n"
   ]
  },
  {
   "cell_type": "code",
   "execution_count": 87,
   "metadata": {},
   "outputs": [
    {
     "name": "stdout",
     "output_type": "stream",
     "text": [
      "False True True\n"
     ]
    }
   ],
   "source": [
    "#l = [0,1,2,3,4]\n",
    "#if lambda x, any(x==0), l\n",
    "\n",
    "def any_true(iterable):\n",
    "    for i in iterable:\n",
    "        if i:\n",
    "            return True\n",
    "    return False\n",
    "\n",
    "def main():    \n",
    "    a = any_true([0,0,0,0,0,0])\n",
    "    b = any_true([0,0,1,0,0,0])\n",
    "    c = any_true([0,0,1,0,1,1])\n",
    "\n",
    "    print(a,b,c)\n",
    "\n",
    "main()\n",
    "        "
   ]
  },
  {
   "cell_type": "code",
   "execution_count": null,
   "metadata": {
    "collapsed": true
   },
   "outputs": [],
   "source": [
    "import re\n",
    "k = re.compile(\"^[a-zA-Z][\\w-]*@[a-zA-Z0-9]+\\.[a-zA-Z]{1,3}$\")\n",
    "\n",
    "lst = [raw_input() for _ in range(input())]\n",
    "lst = filter(k.match, lst)\n",
    "print(sorted(lst))\n",
    "\n",
    "\n"
   ]
  }
 ],
 "metadata": {
  "kernelspec": {
   "display_name": "Python 3",
   "language": "python",
   "name": "python3"
  },
  "language_info": {
   "codemirror_mode": {
    "name": "ipython",
    "version": 3
   },
   "file_extension": ".py",
   "mimetype": "text/x-python",
   "name": "python",
   "nbconvert_exporter": "python",
   "pygments_lexer": "ipython3",
   "version": "3.6.1"
  }
 },
 "nbformat": 4,
 "nbformat_minor": 2
}
